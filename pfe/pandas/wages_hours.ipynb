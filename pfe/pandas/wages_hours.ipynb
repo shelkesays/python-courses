{
 "cells": [
  {
   "cell_type": "code",
   "execution_count": 5,
   "metadata": {
    "collapsed": false
   },
   "outputs": [
    {
     "name": "stdout",
     "output_type": "stream",
     "text": [
      "Populating the interactive namespace from numpy and matplotlib\n"
     ]
    },
    {
     "data": {
      "text/html": [
       "<div>\n",
       "<table border=\"1\" class=\"dataframe\">\n",
       "  <thead>\n",
       "    <tr style=\"text-align: right;\">\n",
       "      <th></th>\n",
       "      <th>HRS\tRATE\tERSP\tERNO\tNEIN\tASSET\tAGE\tDEP\tRACE\tSCHOOL</th>\n",
       "    </tr>\n",
       "  </thead>\n",
       "  <tbody>\n",
       "    <tr>\n",
       "      <th>0</th>\n",
       "      <td>2157\\t2.905\\t1121\\t291\\t380\\t7250\\t38.5\\t2.340...</td>\n",
       "    </tr>\n",
       "    <tr>\n",
       "      <th>1</th>\n",
       "      <td>2174\\t2.970\\t1128\\t301\\t398\\t7744\\t39.3\\t2.335...</td>\n",
       "    </tr>\n",
       "    <tr>\n",
       "      <th>2</th>\n",
       "      <td>2062\\t2.350\\t1214\\t326\\t185\\t3068\\t40.1\\t2.851...</td>\n",
       "    </tr>\n",
       "    <tr>\n",
       "      <th>3</th>\n",
       "      <td>2111\\t2.511\\t1203\\t49\\t117\\t1632\\t22.4\\t1.159\\...</td>\n",
       "    </tr>\n",
       "    <tr>\n",
       "      <th>4</th>\n",
       "      <td>2134\\t2.791\\t1013\\t594\\t730\\t12710\\t57.7\\t1.22...</td>\n",
       "    </tr>\n",
       "  </tbody>\n",
       "</table>\n",
       "</div>"
      ],
      "text/plain": [
       "  HRS\\tRATE\\tERSP\\tERNO\\tNEIN\\tASSET\\tAGE\\tDEP\\tRACE\\tSCHOOL\n",
       "0  2157\\t2.905\\t1121\\t291\\t380\\t7250\\t38.5\\t2.340...        \n",
       "1  2174\\t2.970\\t1128\\t301\\t398\\t7744\\t39.3\\t2.335...        \n",
       "2  2062\\t2.350\\t1214\\t326\\t185\\t3068\\t40.1\\t2.851...        \n",
       "3  2111\\t2.511\\t1203\\t49\\t117\\t1632\\t22.4\\t1.159\\...        \n",
       "4  2134\\t2.791\\t1013\\t594\\t730\\t12710\\t57.7\\t1.22...        "
      ]
     },
     "execution_count": 5,
     "metadata": {},
     "output_type": "execute_result"
    }
   ],
   "source": [
    "import pandas as pd\n",
    "import matplotlib.pyplot as plt\n",
    "%pylab inline\n",
    " \n",
    "data = pd.read_csv(\"wages_hours.csv\")\n",
    "data.head()"
   ]
  },
  {
   "cell_type": "code",
   "execution_count": 6,
   "metadata": {
    "collapsed": false
   },
   "outputs": [
    {
     "data": {
      "text/html": [
       "<div>\n",
       "<table border=\"1\" class=\"dataframe\">\n",
       "  <thead>\n",
       "    <tr style=\"text-align: right;\">\n",
       "      <th></th>\n",
       "      <th>HRS</th>\n",
       "      <th>RATE</th>\n",
       "      <th>ERSP</th>\n",
       "      <th>ERNO</th>\n",
       "      <th>NEIN</th>\n",
       "      <th>ASSET</th>\n",
       "      <th>AGE</th>\n",
       "      <th>DEP</th>\n",
       "      <th>RACE</th>\n",
       "      <th>SCHOOL</th>\n",
       "    </tr>\n",
       "  </thead>\n",
       "  <tbody>\n",
       "    <tr>\n",
       "      <th>0</th>\n",
       "      <td>2157</td>\n",
       "      <td>2.905</td>\n",
       "      <td>1121</td>\n",
       "      <td>291</td>\n",
       "      <td>380</td>\n",
       "      <td>7250</td>\n",
       "      <td>38.5</td>\n",
       "      <td>2.340</td>\n",
       "      <td>32.1</td>\n",
       "      <td>10.5</td>\n",
       "    </tr>\n",
       "    <tr>\n",
       "      <th>1</th>\n",
       "      <td>2174</td>\n",
       "      <td>2.970</td>\n",
       "      <td>1128</td>\n",
       "      <td>301</td>\n",
       "      <td>398</td>\n",
       "      <td>7744</td>\n",
       "      <td>39.3</td>\n",
       "      <td>2.335</td>\n",
       "      <td>31.2</td>\n",
       "      <td>10.5</td>\n",
       "    </tr>\n",
       "    <tr>\n",
       "      <th>2</th>\n",
       "      <td>2062</td>\n",
       "      <td>2.350</td>\n",
       "      <td>1214</td>\n",
       "      <td>326</td>\n",
       "      <td>185</td>\n",
       "      <td>3068</td>\n",
       "      <td>40.1</td>\n",
       "      <td>2.851</td>\n",
       "      <td>*</td>\n",
       "      <td>8.9</td>\n",
       "    </tr>\n",
       "    <tr>\n",
       "      <th>3</th>\n",
       "      <td>2111</td>\n",
       "      <td>2.511</td>\n",
       "      <td>1203</td>\n",
       "      <td>49</td>\n",
       "      <td>117</td>\n",
       "      <td>1632</td>\n",
       "      <td>22.4</td>\n",
       "      <td>1.159</td>\n",
       "      <td>27.5</td>\n",
       "      <td>11.5</td>\n",
       "    </tr>\n",
       "    <tr>\n",
       "      <th>4</th>\n",
       "      <td>2134</td>\n",
       "      <td>2.791</td>\n",
       "      <td>1013</td>\n",
       "      <td>594</td>\n",
       "      <td>730</td>\n",
       "      <td>12710</td>\n",
       "      <td>57.7</td>\n",
       "      <td>1.229</td>\n",
       "      <td>32.5</td>\n",
       "      <td>8.8</td>\n",
       "    </tr>\n",
       "  </tbody>\n",
       "</table>\n",
       "</div>"
      ],
      "text/plain": [
       "    HRS   RATE  ERSP ERNO  NEIN  ASSET   AGE    DEP  RACE  SCHOOL\n",
       "0  2157  2.905  1121  291   380   7250  38.5  2.340  32.1    10.5\n",
       "1  2174  2.970  1128  301   398   7744  39.3  2.335  31.2    10.5\n",
       "2  2062  2.350  1214  326   185   3068  40.1  2.851     *     8.9\n",
       "3  2111  2.511  1203   49   117   1632  22.4  1.159  27.5    11.5\n",
       "4  2134  2.791  1013  594   730  12710  57.7  1.229  32.5     8.8"
      ]
     },
     "execution_count": 6,
     "metadata": {},
     "output_type": "execute_result"
    }
   ],
   "source": [
    "data = pd.read_csv(\"wages_hours.csv\", sep = \"\\t\")\n",
    "data.head()"
   ]
  },
  {
   "cell_type": "code",
   "execution_count": 7,
   "metadata": {
    "collapsed": false
   },
   "outputs": [
    {
     "data": {
      "text/html": [
       "<div>\n",
       "<table border=\"1\" class=\"dataframe\">\n",
       "  <thead>\n",
       "    <tr style=\"text-align: right;\">\n",
       "      <th></th>\n",
       "      <th>AGE</th>\n",
       "      <th>RATE</th>\n",
       "    </tr>\n",
       "  </thead>\n",
       "  <tbody>\n",
       "    <tr>\n",
       "      <th>0</th>\n",
       "      <td>38.5</td>\n",
       "      <td>2.905</td>\n",
       "    </tr>\n",
       "    <tr>\n",
       "      <th>1</th>\n",
       "      <td>39.3</td>\n",
       "      <td>2.970</td>\n",
       "    </tr>\n",
       "    <tr>\n",
       "      <th>2</th>\n",
       "      <td>40.1</td>\n",
       "      <td>2.350</td>\n",
       "    </tr>\n",
       "    <tr>\n",
       "      <th>3</th>\n",
       "      <td>22.4</td>\n",
       "      <td>2.511</td>\n",
       "    </tr>\n",
       "    <tr>\n",
       "      <th>4</th>\n",
       "      <td>57.7</td>\n",
       "      <td>2.791</td>\n",
       "    </tr>\n",
       "  </tbody>\n",
       "</table>\n",
       "</div>"
      ],
      "text/plain": [
       "    AGE   RATE\n",
       "0  38.5  2.905\n",
       "1  39.3  2.970\n",
       "2  40.1  2.350\n",
       "3  22.4  2.511\n",
       "4  57.7  2.791"
      ]
     },
     "execution_count": 7,
     "metadata": {},
     "output_type": "execute_result"
    }
   ],
   "source": [
    "data2 = data[[\"AGE\", \"RATE\"]]\n",
    "data2.head()"
   ]
  },
  {
   "cell_type": "code",
   "execution_count": 14,
   "metadata": {
    "collapsed": false
   },
   "outputs": [
    {
     "data": {
      "text/html": [
       "<div>\n",
       "<table border=\"1\" class=\"dataframe\">\n",
       "  <thead>\n",
       "    <tr style=\"text-align: right;\">\n",
       "      <th></th>\n",
       "      <th>AGE</th>\n",
       "      <th>RATE</th>\n",
       "    </tr>\n",
       "  </thead>\n",
       "  <tbody>\n",
       "    <tr>\n",
       "      <th>3</th>\n",
       "      <td>22.4</td>\n",
       "      <td>2.511</td>\n",
       "    </tr>\n",
       "    <tr>\n",
       "      <th>27</th>\n",
       "      <td>37.2</td>\n",
       "      <td>3.015</td>\n",
       "    </tr>\n",
       "    <tr>\n",
       "      <th>31</th>\n",
       "      <td>37.4</td>\n",
       "      <td>1.901</td>\n",
       "    </tr>\n",
       "    <tr>\n",
       "      <th>33</th>\n",
       "      <td>37.5</td>\n",
       "      <td>1.899</td>\n",
       "    </tr>\n",
       "    <tr>\n",
       "      <th>32</th>\n",
       "      <td>37.5</td>\n",
       "      <td>3.009</td>\n",
       "    </tr>\n",
       "  </tbody>\n",
       "</table>\n",
       "</div>"
      ],
      "text/plain": [
       "     AGE   RATE\n",
       "3   22.4  2.511\n",
       "27  37.2  3.015\n",
       "31  37.4  1.901\n",
       "33  37.5  1.899\n",
       "32  37.5  3.009"
      ]
     },
     "execution_count": 14,
     "metadata": {},
     "output_type": "execute_result"
    }
   ],
   "source": [
    "data_sorted = data2.sort_values([\"AGE\"])\n",
    "data_sorted.head()"
   ]
  },
  {
   "cell_type": "code",
   "execution_count": 13,
   "metadata": {
    "collapsed": false,
    "scrolled": true
   },
   "outputs": [
    {
     "data": {
      "text/html": [
       "<div>\n",
       "<table border=\"1\" class=\"dataframe\">\n",
       "  <thead>\n",
       "    <tr style=\"text-align: right;\">\n",
       "      <th></th>\n",
       "      <th>RATE</th>\n",
       "    </tr>\n",
       "    <tr>\n",
       "      <th>AGE</th>\n",
       "      <th></th>\n",
       "    </tr>\n",
       "  </thead>\n",
       "  <tbody>\n",
       "    <tr>\n",
       "      <th>22.4</th>\n",
       "      <td>2.511</td>\n",
       "    </tr>\n",
       "    <tr>\n",
       "      <th>37.2</th>\n",
       "      <td>3.015</td>\n",
       "    </tr>\n",
       "    <tr>\n",
       "      <th>37.4</th>\n",
       "      <td>1.901</td>\n",
       "    </tr>\n",
       "    <tr>\n",
       "      <th>37.5</th>\n",
       "      <td>1.899</td>\n",
       "    </tr>\n",
       "    <tr>\n",
       "      <th>37.5</th>\n",
       "      <td>3.009</td>\n",
       "    </tr>\n",
       "  </tbody>\n",
       "</table>\n",
       "</div>"
      ],
      "text/plain": [
       "       RATE\n",
       "AGE        \n",
       "22.4  2.511\n",
       "37.2  3.015\n",
       "37.4  1.901\n",
       "37.5  1.899\n",
       "37.5  3.009"
      ]
     },
     "execution_count": 13,
     "metadata": {},
     "output_type": "execute_result"
    }
   ],
   "source": [
    "data_sorted.set_index(\"AGE\", inplace=True)\n",
    "data_sorted.head()"
   ]
  },
  {
   "cell_type": "code",
   "execution_count": 15,
   "metadata": {
    "collapsed": false
   },
   "outputs": [
    {
     "data": {
      "image/png": "[encoded data removed]",
      "text/plain": [
       "<matplotlib.figure.Figure at 0x7f4515467eb8>"
      ]
     },
     "metadata": {},
     "output_type": "display_data"
    }
   ],
   "source": [
    "data_sorted.plot()\n",
    "plt.show()"
   ]
  },
  {
   "cell_type": "code",
   "execution_count": null,
   "metadata": {
    "collapsed": true
   },
   "outputs": [],
   "source": []
  }
 ],
 "metadata": {
  "kernelspec": {
   "display_name": "Python 3",
   "language": "python",
   "name": "python3"
  },
  "language_info": {
   "codemirror_mode": {
    "name": "ipython",
    "version": 3
   },
   "file_extension": ".py",
   "mimetype": "text/x-python",
   "name": "python",
   "nbconvert_exporter": "python",
   "pygments_lexer": "ipython3",
   "version": "3.6.0"
  }
 },
 "nbformat": 4,
 "nbformat_minor": 2
}
